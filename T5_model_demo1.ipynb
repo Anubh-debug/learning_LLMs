{
  "nbformat": 4,
  "nbformat_minor": 0,
  "metadata": {
    "colab": {
      "provenance": [],
      "gpuType": "T4",
      "authorship_tag": "ABX9TyNFrAqM0UVACGd9IpppjP8O",
      "include_colab_link": true
    },
    "kernelspec": {
      "name": "python3",
      "display_name": "Python 3"
    },
    "language_info": {
      "name": "python"
    },
    "accelerator": "GPU"
  },
  "cells": [
    {
      "cell_type": "markdown",
      "metadata": {
        "id": "view-in-github",
        "colab_type": "text"
      },
      "source": [
        "<a href=\"https://colab.research.google.com/github/Anubh-debug/learning_LLMs/blob/main/T5_model_demo1.ipynb\" target=\"_parent\"><img src=\"https://colab.research.google.com/assets/colab-badge.svg\" alt=\"Open In Colab\"/></a>"
      ]
    },
    {
      "cell_type": "markdown",
      "source": [
        "This notebook only contains the usefulness of T5 model. Training is not in this notebook."
      ],
      "metadata": {
        "id": "nlGoIW3QpRTb"
      }
    },
    {
      "cell_type": "markdown",
      "source": [
        "https://huggingface.co/docs/transformers/en/model_doc/t5"
      ],
      "metadata": {
        "id": "-glrei8obiq-"
      }
    },
    {
      "cell_type": "code",
      "source": [
        "!pip install transformers --upgrade\n",
        "#transformers >= 2.8.0"
      ],
      "metadata": {
        "id": "7DcfRmMmh6Qw"
      },
      "execution_count": null,
      "outputs": []
    },
    {
      "cell_type": "code",
      "source": [
        "# Load model directly\n",
        "from transformers import AutoTokenizer, AutoModelForSeq2SeqLM\n",
        "\n",
        "tokenizer = AutoTokenizer.from_pretrained(\"google-t5/t5-large\")\n",
        "model = AutoModelForSeq2SeqLM.from_pretrained(\"google-t5/t5-large\")"
      ],
      "metadata": {
        "id": "3EYe41Gbh_1m"
      },
      "execution_count": null,
      "outputs": []
    },
    {
      "cell_type": "code",
      "source": [
        "import time\n",
        "\n",
        "start_time = time.time()\n",
        "\n",
        "# function for summarization task\n",
        "def summarization(text):\n",
        "  preprocess_text = text.strip().replace(\"\\n\",\" \")\n",
        "  # specify the summarize prefix for summarization task.\n",
        "  t5_prepared_Text = \"summarize: \"+preprocess_text\n",
        "  tokenized_text = tokenizer.encode(t5_prepared_Text, return_tensors=\"pt\").to(\"cuda\")\n",
        "\n",
        "  # Move model to CUDA device\n",
        "  model.to(\"cuda\")\n",
        "\n",
        "  generate = model.generate(tokenized_text, min_length=50, max_length=100, top_k = 80, top_p=0.8)\n",
        "  output = tokenizer.decode(generate[0], skip_special_tokens=True)\n",
        "  end_time = time.time()\n",
        "  print (f'Time taken : {end_time-start_time}')\n",
        "  return output\n",
        "\n",
        "# function for translation task.\n",
        "def translation(text):\n",
        "  preprocess_text = text.strip().replace(\"\\n\",\" \")\n",
        "  t5_prepared_Text = \"translate English to French: \"+preprocess_text\n",
        "  translate_ids = tokenizer.encode(t5_prepared_Text, return_tensors=\"pt\").to(\"cuda\")\n",
        "\n",
        "  generate = model.generate(translate_ids, min_length=50, max_length=100, early_stopping=True, num_beams=2)\n",
        "  output = tokenizer.decode(generate[0], skip_special_tokens=True)\n",
        "  end_time = time.time()\n",
        "  print (f'Time taken : {end_time-start_time}')\n",
        "  return output"
      ],
      "metadata": {
        "id": "tnYwGoLBiYpC"
      },
      "execution_count": null,
      "outputs": []
    },
    {
      "cell_type": "markdown",
      "source": [
        "#Using pipeline on t5-small"
      ],
      "metadata": {
        "id": "j5Jv19s6n78Z"
      }
    },
    {
      "cell_type": "code",
      "source": [
        "text =\"\"\"\n",
        "With 1,229 fresh cases in the last 24 hours, India's novel coronavirus count has increased to 21,700, according to the latest Ministry of Health and Family Welfare data. Along with that, the death toll due to the virus has increased to 686 after 34 more patients succumbed to the highly contagious disease since yesterday, it said. So far, India has 16,689 active cases. There are also 77 foreign nationals who are affected by the virus, the ministry said. Apart from that, there are at least 4,324 patients who have been discharged or cured from the highly contagious disease and one has migrated from the country. Speaking at the press briefing today, Lav Agarwal, Joint Secretary, Health Ministry, said, \"As on today, we have 12 districts that did not have a fresh case in the last 28 days or more. There are now 78 districts (23 States/UTs) that has not reported any fresh cases during the last 14 Days.\" However, he also said that the increase in the number of coronavirus cases in the country is \"more or less linear, not exponential.\" According to the Thursday morning data of health ministry, 4,257 Covid-19 patients have been cured so far, bring the recovery rate to is 19.89% as of now, said Aggrawal. He also added, \"We have been able to cut virus transmission, minimise spread of COVID-19 in 30 days of lockdown.\"\n",
        "\"\"\""
      ],
      "metadata": {
        "id": "YhL0Tt2koLDo"
      },
      "execution_count": null,
      "outputs": []
    },
    {
      "cell_type": "code",
      "source": [],
      "metadata": {
        "id": "mDrpxSWLn7nd"
      },
      "execution_count": null,
      "outputs": []
    },
    {
      "cell_type": "code",
      "source": [
        "summarization(text)\n",
        "\n",
        "# output: coronavirus count in india has increased to 21,700 . death toll due to the virus has increased to 686 .\n",
        "# 34 more patients succumbed to the highly contagious disease since yesterday . there are also 77 foreign nationals who are affected by the virus ."
      ],
      "metadata": {
        "id": "fW8hLCMyj9uo"
      },
      "execution_count": null,
      "outputs": []
    },
    {
      "cell_type": "code",
      "source": [
        "translation(text)\n",
        "\n",
        "# output: Avec 1 229 nouveaux cas dans les 24 dernières heures, le nombre de nouveaux cas de coronavirus en Inde a augmenté à 21 700,\n",
        "# selon les dernières données du ministère de la Santé et de la Bien-être familial. De plus, le nombre de décès dus au virus a augmenté à\n",
        "# 686 après que 34 autres patients aient succombé à la maladie hautement contagieuse"
      ],
      "metadata": {
        "id": "bso-lstTo1VW"
      },
      "execution_count": null,
      "outputs": []
    },
    {
      "cell_type": "markdown",
      "source": [
        "#Using pipeline on t5-small"
      ],
      "metadata": {
        "id": "Y6Hz4kTCpAR-"
      }
    },
    {
      "cell_type": "code",
      "source": [
        "from transformers import pipeline\n",
        "\n",
        "summarization_pipeline = pipeline(task='summarization', model=\"t5-small\")\n",
        "output = summarization_pipeline(text, min_length=30, max_length=50, top_k=100, top_p=0.8)\n",
        "print (output)"
      ],
      "metadata": {
        "id": "SH3gXVJfo9p-"
      },
      "execution_count": null,
      "outputs": []
    }
  ]
}