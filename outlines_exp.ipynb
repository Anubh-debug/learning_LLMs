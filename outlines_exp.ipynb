{
  "nbformat": 4,
  "nbformat_minor": 0,
  "metadata": {
    "colab": {
      "provenance": [],
      "gpuType": "T4",
      "authorship_tag": "ABX9TyMtImszMN1GH3dR+sgAg3im",
      "include_colab_link": true
    },
    "kernelspec": {
      "name": "python3",
      "display_name": "Python 3"
    },
    "language_info": {
      "name": "python"
    },
    "accelerator": "GPU"
  },
  "cells": [
    {
      "cell_type": "markdown",
      "metadata": {
        "id": "view-in-github",
        "colab_type": "text"
      },
      "source": [
        "<a href=\"https://colab.research.google.com/github/Anubh-debug/learning_LLMs/blob/main/outlines_exp.ipynb\" target=\"_parent\"><img src=\"https://colab.research.google.com/assets/colab-badge.svg\" alt=\"Open In Colab\"/></a>"
      ]
    },
    {
      "cell_type": "code",
      "execution_count": null,
      "metadata": {
        "id": "BGCYsDMlZoRI"
      },
      "outputs": [],
      "source": [
        "!pip install outlines"
      ]
    },
    {
      "cell_type": "code",
      "source": [
        "import outlines\n",
        "from transformers import AutoTokenizer, AutoModelForCausalLM\n",
        "\n",
        "\n",
        "MODEL_NAME = \"microsoft/Phi-3-mini-4k-instruct\"\n",
        "model = outlines.from_transformers(\n",
        "    AutoModelForCausalLM.from_pretrained(MODEL_NAME, device_map=\"auto\"),\n",
        "    AutoTokenizer.from_pretrained(MODEL_NAME)\n",
        ")"
      ],
      "metadata": {
        "id": "0KzfK2VIZxZO"
      },
      "execution_count": null,
      "outputs": []
    },
    {
      "cell_type": "code",
      "source": [
        "from typing import Literal\n",
        "from pydantic import BaseModel\n",
        "\n",
        "\n",
        "# Simple classification\n",
        "sentiment = model(\n",
        "    \"Analyze: 'This product completely changed my life!'\",\n",
        "    Literal[\"Positive\", \"Negative\", \"Neutral\"]\n",
        ")\n",
        "print(sentiment)  # \"Positive\"\n",
        "\n",
        "# Extract specific types\n",
        "temperature = model(\"What's the boiling point of water in Celsius?\", int)\n",
        "print(temperature)  # 100"
      ],
      "metadata": {
        "id": "G1q8twRKZ3Jr"
      },
      "execution_count": null,
      "outputs": []
    },
    {
      "cell_type": "code",
      "source": [
        "from pydantic import BaseModel\n",
        "from enum import Enum\n",
        "\n",
        "class Rating(Enum):\n",
        "    poor = 1\n",
        "    fair = 2\n",
        "    good = 3\n",
        "    excellent = 4\n",
        "\n",
        "class ProductReview(BaseModel):\n",
        "    rating: Rating\n",
        "    pros: list[str]\n",
        "    cons: list[str]\n",
        "    summary: str\n",
        "\n",
        "review = model(\n",
        "    \"Review: The XPS 13 has great battery life and a stunning display, but it runs hot and the webcam is poor quality.\",\n",
        "    ProductReview,\n",
        "    max_new_tokens=200,\n",
        ")\n",
        "\n",
        "review = ProductReview.model_validate_json(review)"
      ],
      "metadata": {
        "id": "mUYE0HZbaAN-"
      },
      "execution_count": null,
      "outputs": []
    },
    {
      "cell_type": "code",
      "source": [
        "review"
      ],
      "metadata": {
        "id": "T-cD0vk1bPMk"
      },
      "execution_count": null,
      "outputs": []
    }
  ]
}